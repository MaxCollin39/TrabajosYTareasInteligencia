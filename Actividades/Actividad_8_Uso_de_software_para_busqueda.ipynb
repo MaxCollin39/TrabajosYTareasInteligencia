{
  "nbformat": 4,
  "nbformat_minor": 0,
  "metadata": {
    "colab": {
      "provenance": []
    },
    "kernelspec": {
      "name": "python3",
      "display_name": "Python 3"
    },
    "language_info": {
      "name": "python"
    }
  },
  "cells": [
    {
      "cell_type": "markdown",
      "source": [
        "Maximiliano Bautista Delgado 1924598 Clase:LMV N1"
      ],
      "metadata": {
        "id": "20kvrgDTEsqy"
      }
    },
    {
      "cell_type": "code",
      "execution_count": 2,
      "metadata": {
        "colab": {
          "base_uri": "https://localhost:8080/"
        },
        "id": "gr2GZVsMEJa3",
        "outputId": "fb8099d1-751c-45ac-ffeb-d9348a7e6dab"
      },
      "outputs": [
        {
          "output_type": "stream",
          "name": "stdout",
          "text": [
            "Epoch 1/10\n",
            "\u001b[1m1500/1500\u001b[0m \u001b[32m━━━━━━━━━━━━━━━━━━━━\u001b[0m\u001b[37m\u001b[0m \u001b[1m7s\u001b[0m 4ms/step - accuracy: 0.8639 - loss: 0.4673 - val_accuracy: 0.9539 - val_loss: 0.1524\n",
            "Epoch 2/10\n",
            "\u001b[1m1500/1500\u001b[0m \u001b[32m━━━━━━━━━━━━━━━━━━━━\u001b[0m\u001b[37m\u001b[0m \u001b[1m10s\u001b[0m 4ms/step - accuracy: 0.9641 - loss: 0.1171 - val_accuracy: 0.9682 - val_loss: 0.1081\n",
            "Epoch 3/10\n",
            "\u001b[1m1500/1500\u001b[0m \u001b[32m━━━━━━━━━━━━━━━━━━━━\u001b[0m\u001b[37m\u001b[0m \u001b[1m8s\u001b[0m 6ms/step - accuracy: 0.9773 - loss: 0.0749 - val_accuracy: 0.9695 - val_loss: 0.1049\n",
            "Epoch 4/10\n",
            "\u001b[1m1500/1500\u001b[0m \u001b[32m━━━━━━━━━━━━━━━━━━━━\u001b[0m\u001b[37m\u001b[0m \u001b[1m8s\u001b[0m 4ms/step - accuracy: 0.9821 - loss: 0.0556 - val_accuracy: 0.9713 - val_loss: 0.1033\n",
            "Epoch 5/10\n",
            "\u001b[1m1500/1500\u001b[0m \u001b[32m━━━━━━━━━━━━━━━━━━━━\u001b[0m\u001b[37m\u001b[0m \u001b[1m10s\u001b[0m 4ms/step - accuracy: 0.9858 - loss: 0.0405 - val_accuracy: 0.9728 - val_loss: 0.0969\n",
            "Epoch 6/10\n",
            "\u001b[1m1500/1500\u001b[0m \u001b[32m━━━━━━━━━━━━━━━━━━━━\u001b[0m\u001b[37m\u001b[0m \u001b[1m8s\u001b[0m 5ms/step - accuracy: 0.9906 - loss: 0.0304 - val_accuracy: 0.9734 - val_loss: 0.0927\n",
            "Epoch 7/10\n",
            "\u001b[1m1500/1500\u001b[0m \u001b[32m━━━━━━━━━━━━━━━━━━━━\u001b[0m\u001b[37m\u001b[0m \u001b[1m8s\u001b[0m 4ms/step - accuracy: 0.9911 - loss: 0.0275 - val_accuracy: 0.9746 - val_loss: 0.0933\n",
            "Epoch 8/10\n",
            "\u001b[1m1500/1500\u001b[0m \u001b[32m━━━━━━━━━━━━━━━━━━━━\u001b[0m\u001b[37m\u001b[0m \u001b[1m10s\u001b[0m 4ms/step - accuracy: 0.9939 - loss: 0.0189 - val_accuracy: 0.9757 - val_loss: 0.1002\n",
            "Epoch 9/10\n",
            "\u001b[1m1500/1500\u001b[0m \u001b[32m━━━━━━━━━━━━━━━━━━━━\u001b[0m\u001b[37m\u001b[0m \u001b[1m10s\u001b[0m 4ms/step - accuracy: 0.9941 - loss: 0.0173 - val_accuracy: 0.9725 - val_loss: 0.1202\n",
            "Epoch 10/10\n",
            "\u001b[1m1500/1500\u001b[0m \u001b[32m━━━━━━━━━━━━━━━━━━━━\u001b[0m\u001b[37m\u001b[0m \u001b[1m11s\u001b[0m 4ms/step - accuracy: 0.9946 - loss: 0.0148 - val_accuracy: 0.9734 - val_loss: 0.1257\n",
            "\u001b[1m313/313\u001b[0m \u001b[32m━━━━━━━━━━━━━━━━━━━━\u001b[0m\u001b[37m\u001b[0m \u001b[1m1s\u001b[0m 2ms/step - accuracy: 0.9721 - loss: 0.1268\n",
            "\n",
            "Exactitud del modelo en el conjunto de prueba: 0.97\n",
            "\u001b[1m313/313\u001b[0m \u001b[32m━━━━━━━━━━━━━━━━━━━━\u001b[0m\u001b[37m\u001b[0m \u001b[1m1s\u001b[0m 2ms/step\n",
            "Predicción: 7, Valor real: 7\n",
            "Predicción: 2, Valor real: 2\n",
            "Predicción: 1, Valor real: 1\n",
            "Predicción: 0, Valor real: 0\n",
            "Predicción: 4, Valor real: 4\n"
          ]
        }
      ],
      "source": [
        "# Importación de librerías necesarias\n",
        "import numpy as np\n",
        "import tensorflow as tf\n",
        "from tensorflow.keras.datasets import mnist\n",
        "from tensorflow.keras.models import Sequential\n",
        "from tensorflow.keras.layers import Dense, Flatten\n",
        "from tensorflow.keras.utils import to_categorical\n",
        "\n",
        "# Cargar el conjunto de datos MNIST\n",
        "(train_data, train_labels), (test_data, test_labels) = mnist.load_data()\n",
        "\n",
        "# Preprocesamiento de los datos\n",
        "# Normalización para que los valores estén entre 0 y 1\n",
        "train_data = train_data / 255.0\n",
        "test_data = test_data / 255.0\n",
        "\n",
        "# Convertir las etiquetas a una codificación categórica\n",
        "train_labels = to_categorical(train_labels, 10)\n",
        "test_labels = to_categorical(test_labels, 10)\n",
        "\n",
        "# Crear el modelo de la red neuronal prealimentada\n",
        "model = Sequential()\n",
        "model.add(Flatten(input_shape=(28, 28)))  # Aplanar la entrada 28x28 píxeles a un vector de 784\n",
        "model.add(Dense(128, activation='relu'))  # Capa oculta de 128 neuronas\n",
        "model.add(Dense(64, activation='relu'))   # Capa oculta de 64 neuronas\n",
        "model.add(Dense(10, activation='softmax'))  # Capa de salida con 10 neuronas y activación softmax\n",
        "\n",
        "# Compilación del modelo\n",
        "model.compile(optimizer='adam',  # Optimizador Adam\n",
        "              loss='categorical_crossentropy',  # Función de pérdida\n",
        "              metrics=['accuracy'])  # Métrica de evaluación\n",
        "\n",
        "# Entrenamiento del modelo\n",
        "history = model.fit(train_data, train_labels, epochs=10, batch_size=32, validation_split=0.2)\n",
        "\n",
        "# Evaluación del modelo\n",
        "test_loss, test_accuracy = model.evaluate(test_data, test_labels)\n",
        "print(f\"\\nExactitud del modelo en el conjunto de prueba: {test_accuracy:.2f}\")\n",
        "\n",
        "# Realizar 5 predicciones y mostrar el valor real y la predicción\n",
        "predictions = model.predict(test_data)\n",
        "\n",
        "for i in range(5):\n",
        "    # Obtener la predicción y el valor real\n",
        "    pred_label = np.argmax(predictions[i])\n",
        "    true_label = np.argmax(test_labels[i])\n",
        "    print(f\"Predicción: {pred_label}, Valor real: {true_label}\")"
      ]
    }
  ]
}