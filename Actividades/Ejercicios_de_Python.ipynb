{
  "nbformat": 4,
  "nbformat_minor": 0,
  "metadata": {
    "colab": {
      "provenance": []
    },
    "kernelspec": {
      "name": "python3",
      "display_name": "Python 3"
    },
    "language_info": {
      "name": "python"
    }
  },
  "cells": [
    {
      "cell_type": "markdown",
      "source": [
        "Maximiliano Bautista Delgado 1924598 LMV-N2"
      ],
      "metadata": {
        "id": "kz_B2Ab2bUkF"
      }
    },
    {
      "cell_type": "code",
      "execution_count": 1,
      "metadata": {
        "colab": {
          "base_uri": "https://localhost:8080/"
        },
        "id": "hIrUPhHHY1EV",
        "outputId": "fe9fb623-c8ad-4493-cd38-44cc92137d59"
      },
      "outputs": [
        {
          "output_type": "stream",
          "name": "stdout",
          "text": [
            "introduce tu nombre: Max Collin\n",
            "Hola  Max Collin!\n"
          ]
        }
      ],
      "source": [
        "\"Ejercicio 1. Desarrolla un algoritmo que le pida al usuario por su nombre y que lo salude con su nombre, excepto si se llama “Ana”, “Juan”, y “Pedro”.\"\n",
        "nombre=input(\"introduce tu nombre:\")\n",
        "if (nombre!=\"Ana\") and (nombre!=\"Pedro\") and (nombre!=\"Juan\"): print(\"Hola \"+nombre+\"!\")"
      ]
    },
    {
      "cell_type": "code",
      "source": [
        "\"Ejercicio 2. Desarrolla un algoritmo que por medio de una función, le pida al usuario una lista de N elementos y como resultado invierta el sentido de la lista. \"\n",
        "x=input(\"introducir dato de la lista \")\n",
        "y=input(\"introduce otro dato a la lista \")\n",
        "z=input(\"introduce otro dato a la lisa \")\n",
        "lista=[x,y,z]\n",
        "lista.reverse()\n",
        "print(lista)"
      ],
      "metadata": {
        "colab": {
          "base_uri": "https://localhost:8080/"
        },
        "id": "1o3ASO5vZAXB",
        "outputId": "c7a57176-2728-4863-aac8-b3bac4ea6622"
      },
      "execution_count": 2,
      "outputs": [
        {
          "output_type": "stream",
          "name": "stdout",
          "text": [
            "introducir dato de la lista  Coca cola\n",
            "introduce otro dato a la lista Pizza\n",
            "introduce otro dato a la lisa Frappe\n",
            "['Frappe', 'Pizza', ' Coca cola']\n"
          ]
        }
      ]
    },
    {
      "cell_type": "code",
      "source": [],
      "metadata": {
        "id": "rzKugoJ8ZkAH"
      },
      "execution_count": null,
      "outputs": []
    },
    {
      "cell_type": "code",
      "source": [
        "\"Ejercicio 3. Genera los primeros n números de la serie de Fibonacci.\"\n",
        "def generar_fibonacci(n):\n",
        "    fibonacci = []\n",
        "    a, b = 0, 1\n",
        "    for _ in range(n):\n",
        "        fibonacci.append(a)\n",
        "        a, b = b, a + b\n",
        "    return fibonacci\n",
        "\n",
        "def main():\n",
        "    \"\"\"Solicita al usuario la cantidad de números a generar e imprime la serie de Fibonacci.\"\"\"\n",
        "    while True:\n",
        "        try:\n",
        "            cantidad = int(input(\"¿Cuántos números de la serie de Fibonacci deseas generar? \"))\n",
        "            if cantidad <= 0:\n",
        "                print(\"Por favor, ingresa un número entero positivo.\")\n",
        "            else:\n",
        "                fibonacci_series = generar_fibonacci(cantidad)\n",
        "                print(\"Los primeros\", cantidad, \"números de la serie de Fibonacci son:\")\n",
        "                print(fibonacci_series)\n",
        "                break\n",
        "        except ValueError:\n",
        "            print(\"Entrada no válida. Por favor, ingresa un número entero.\")\n",
        "\n",
        "if __name__ == \"__main__\":\n",
        "    main()"
      ],
      "metadata": {
        "colab": {
          "base_uri": "https://localhost:8080/"
        },
        "id": "nXh3XcwF-T3l",
        "outputId": "41be344a-f514-4e2b-c23d-74696ef1a0b6"
      },
      "execution_count": 3,
      "outputs": [
        {
          "output_type": "stream",
          "name": "stdout",
          "text": [
            "¿Cuántos números de la serie de Fibonacci deseas generar? 9\n",
            "Los primeros 9 números de la serie de Fibonacci son:\n",
            "[0, 1, 1, 2, 3, 5, 8, 13, 21]\n"
          ]
        }
      ]
    },
    {
      "cell_type": "code",
      "source": [],
      "metadata": {
        "id": "As3SSJlXZ-Io"
      },
      "execution_count": null,
      "outputs": []
    },
    {
      "cell_type": "code",
      "source": [
        "\"Ejercicio 4. Crea un programa que genere un numero aleatorio entre 1 y 100, y luego le pida al usuario que adivine el numero. El programa debe proporcionar pistas.\"\n",
        "import random\n",
        "\n",
        "# Inicializar variables\n",
        "intentos = 0\n",
        "numero_min = 1\n",
        "numero_max = 100\n",
        "\n",
        "# Generar un número aleatorio\n",
        "numero = random.randint(numero_min, numero_max)\n",
        "\n",
        "# Pedir el nombre del usuario\n",
        "print(\"Bienvenido al juego, ¿cuál es tu nombre?\")\n",
        "nombre_usuario = input()\n",
        "\n",
        "print(f\"Bueno, {nombre_usuario}, estoy pensando en un número entre {numero_min} y {numero_max}.\")\n",
        "\n",
        "# Ciclo principal del juego\n",
        "while intentos < 8:\n",
        "    print(\"¿En qué número pienso?\")\n",
        "    adivina = int(input())  # Convertir la entrada del usuario a entero\n",
        "\n",
        "    intentos += 1\n",
        "\n",
        "    # Proporcionar pistas\n",
        "    if adivina < numero:\n",
        "        print(\"Tu número es menor.\")\n",
        "    elif adivina > numero:\n",
        "        print(\"Tu número es mayor.\")\n",
        "    else:\n",
        "        print(f\"¡Adivinaste, {nombre_usuario}! Lo lograste en {intentos} intentos.\")\n",
        "        break\n",
        "else:\n",
        "    # Si se superan los intentos, se revela el número\n",
        "    print(f\"Lo siento, {nombre_usuario}. El número en el que estaba pensando era {numero}.\")"
      ],
      "metadata": {
        "colab": {
          "base_uri": "https://localhost:8080/"
        },
        "id": "RKrRY7B0TkmQ",
        "outputId": "0b94d0df-d4c9-43b0-999b-ade3ecd78b03"
      },
      "execution_count": 4,
      "outputs": [
        {
          "output_type": "stream",
          "name": "stdout",
          "text": [
            "Bienvenido al juego, ¿cuál es tu nombre?\n",
            "Max Collin\n",
            "Bueno, Max Collin, estoy pensando en un número entre 1 y 100.\n",
            "¿En qué número pienso?\n",
            "39\n",
            "Tu número es menor.\n",
            "¿En qué número pienso?\n",
            "99\n",
            "Tu número es mayor.\n",
            "¿En qué número pienso?\n",
            "70\n",
            "Tu número es menor.\n",
            "¿En qué número pienso?\n",
            "80\n",
            "Tu número es menor.\n",
            "¿En qué número pienso?\n",
            "85\n",
            "Tu número es mayor.\n",
            "¿En qué número pienso?\n",
            "83\n",
            "¡Adivinaste, Max Collin! Lo lograste en 6 intentos.\n"
          ]
        }
      ]
    },
    {
      "cell_type": "code",
      "source": [
        "L = int(input(\"Introduzca el número más bajo: \"))\n",
        "U = int(input(\"Introduzca el número más alto: \"))\n",
        "\n",
        "print(\"Los números primos en el rango son:\")\n",
        "for y in range(L, U + 1):\n",
        "    if y > 1:\n",
        "        for i in range(2, y):\n",
        "            if (y % i) == 0:\n",
        "                break\n",
        "        else:\n",
        "            print(y)"
      ],
      "metadata": {
        "colab": {
          "base_uri": "https://localhost:8080/"
        },
        "id": "b6A-T34Uacos",
        "outputId": "9d818ef1-14c6-49d0-cc62-ebbaba69c27b"
      },
      "execution_count": 5,
      "outputs": [
        {
          "output_type": "stream",
          "name": "stdout",
          "text": [
            "Introduzca el número más bajo: 9\n",
            "Introduzca el número más alto: 39\n",
            "Los números primos en el rango son:\n",
            "11\n",
            "13\n",
            "17\n",
            "19\n",
            "23\n",
            "29\n",
            "31\n",
            "37\n"
          ]
        }
      ]
    },
    {
      "cell_type": "code",
      "source": [],
      "metadata": {
        "id": "S2i_ehwMbM6n"
      },
      "execution_count": null,
      "outputs": []
    },
    {
      "cell_type": "code",
      "source": [
        "\"Ejercicio 5. Determina si un número es primo.\"\n",
        "def es_primo(n):\n",
        "    if n <= 1:\n",
        "        return False\n",
        "    if n <= 3:\n",
        "        return True\n",
        "    if n % 2 == 0 or n % 3 == 0:\n",
        "        return False\n",
        "    i = 5\n",
        "    while i * i <= n:\n",
        "        if n % i == 0 or n % (i + 2) == 0:\n",
        "            return False\n",
        "        i += 6\n",
        "    return True\n",
        "\n",
        "def mostrar_primos(rango_inicio, rango_fin):\n",
        "    \"\"\"Muestra todos los números primos en el rango dado.\"\"\"\n",
        "    primos = [num for num in range(rango_inicio, rango_fin + 1) if es_primo(num)]\n",
        "    return primos\n",
        "\n",
        "def main():\n",
        "    # Solicitar al usuario el rango de números\n",
        "    while True:\n",
        "        try:\n",
        "            rango_inicio = int(input(\"Ingresa el inicio del rango: \"))\n",
        "            rango_fin = int(input(\"Ingresa el fin del rango: \"))\n",
        "            if rango_inicio > rango_fin:\n",
        "                print(\"El inicio del rango debe ser menor o igual al fin del rango. Inténtalo de nuevo.\")\n",
        "            else:\n",
        "                break\n",
        "        except ValueError:\n",
        "            print(\"Por favor, ingresa números válidos.\")\n",
        "\n",
        "    # Obtener y mostrar los números primos en el rango\n",
        "    primos = mostrar_primos(rango_inicio, rango_fin)\n",
        "    if primos:\n",
        "        print(f\"Números primos en el rango de {rango_inicio} a {rango_fin}: {primos}\")\n",
        "    else:\n",
        "        print(f\"No hay números primos en el rango de {rango_inicio} a {rango_fin}.\")\n",
        "\n",
        "if __name__ == \"__main__\":\n",
        "    main()"
      ],
      "metadata": {
        "colab": {
          "base_uri": "https://localhost:8080/"
        },
        "id": "uyXDS1y2cG-w",
        "outputId": "e0049794-11ac-4892-c9f9-1f4aea2ea708"
      },
      "execution_count": 6,
      "outputs": [
        {
          "output_type": "stream",
          "name": "stdout",
          "text": [
            "Ingresa el inicio del rango: 9\n",
            "Ingresa el fin del rango: 99\n",
            "Números primos en el rango de 9 a 99: [11, 13, 17, 19, 23, 29, 31, 37, 41, 43, 47, 53, 59, 61, 67, 71, 73, 79, 83, 89, 97]\n"
          ]
        }
      ]
    },
    {
      "cell_type": "code",
      "source": [
        "\"\"\"Ejercicio 6. Escribe un programa a que solicite al usuario dos numeros y realice operaciones basicas como suma, resta, multiplicacion y division\"\"\"\n",
        "a= int(input(\"Primer numero: \"))\n",
        "b= int(input(\"Segundo numero: \"))\n",
        "s= a + b\n",
        "r= a - b\n",
        "m= a * b\n",
        "d= a / b\n",
        "print (\"La suma es:\", s)\n",
        "print (\"La resta es:\", r)\n",
        "print (\"El producto es:\", m)\n",
        "print (\"El cociente es:\", d)"
      ],
      "metadata": {
        "colab": {
          "base_uri": "https://localhost:8080/"
        },
        "id": "9jdQv8nEblVi",
        "outputId": "34cff6f4-b952-4b86-e765-5b1cf7402b51"
      },
      "execution_count": 7,
      "outputs": [
        {
          "output_type": "stream",
          "name": "stdout",
          "text": [
            "Primer numero: 99\n",
            "Segundo numero: 13\n",
            "La suma es: 112\n",
            "La resta es: 86\n",
            "El producto es: 1287\n",
            "El cociente es: 7.615384615384615\n"
          ]
        }
      ]
    }
  ]
}