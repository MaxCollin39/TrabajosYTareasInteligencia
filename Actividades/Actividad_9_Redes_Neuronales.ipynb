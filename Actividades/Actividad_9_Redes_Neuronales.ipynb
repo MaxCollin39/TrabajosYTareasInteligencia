{
  "nbformat": 4,
  "nbformat_minor": 0,
  "metadata": {
    "colab": {
      "provenance": []
    },
    "kernelspec": {
      "name": "python3",
      "display_name": "Python 3"
    },
    "language_info": {
      "name": "python"
    }
  },
  "cells": [
    {
      "cell_type": "code",
      "execution_count": null,
      "metadata": {
        "id": "J-ZD_FK2yLFW"
      },
      "outputs": [],
      "source": [
        "Maximiliano Bautista Delgado 1924598"
      ]
    },
    {
      "cell_type": "code",
      "source": [
        "import tensorflow as tf\n",
        "from tensorflow.keras.datasets import mnist\n",
        "from tensorflow.keras.utils import to_categorical\n",
        "\n",
        "# Cargar los datos MNIST\n",
        "(train_data, train_labels), (test_data, test_labels) = mnist.load_data()\n",
        "\n",
        "# Normalizar los datos\n",
        "train_data, test_data = train_data / 255.0, test_data / 255.0\n",
        "\n",
        "# Cambiar la forma de los datos para que sean compatibles con la CNN\n",
        "train_data = train_data.reshape(-1, 28, 28, 1)\n",
        "test_data = test_data.reshape(-1, 28, 28, 1)\n",
        "\n",
        "# Convertir las etiquetas a categorías (one-hot encoding)\n",
        "train_labels = to_categorical(train_labels, 10)\n",
        "test_labels = to_categorical(test_labels, 10)"
      ],
      "metadata": {
        "colab": {
          "base_uri": "https://localhost:8080/"
        },
        "id": "Mti332qeyb83",
        "outputId": "abc03a4f-b4a3-47bd-e473-13f2657b31cb"
      },
      "execution_count": 1,
      "outputs": [
        {
          "output_type": "stream",
          "name": "stdout",
          "text": [
            "Downloading data from https://storage.googleapis.com/tensorflow/tf-keras-datasets/mnist.npz\n",
            "\u001b[1m11490434/11490434\u001b[0m \u001b[32m━━━━━━━━━━━━━━━━━━━━\u001b[0m\u001b[37m\u001b[0m \u001b[1m0s\u001b[0m 0us/step\n"
          ]
        }
      ]
    },
    {
      "cell_type": "code",
      "source": [
        "model = tf.keras.models.Sequential([\n",
        "    tf.keras.layers.Conv2D(32, (3, 3), activation='relu', input_shape=(28, 28, 1)),\n",
        "    tf.keras.layers.MaxPooling2D((2, 2)),\n",
        "    tf.keras.layers.Conv2D(64, (3, 3), activation='relu'),\n",
        "    tf.keras.layers.MaxPooling2D((2, 2)),\n",
        "    tf.keras.layers.Flatten(),\n",
        "    tf.keras.layers.Dense(128, activation='relu'),\n",
        "    tf.keras.layers.Dense(10, activation='softmax')\n",
        "])"
      ],
      "metadata": {
        "colab": {
          "base_uri": "https://localhost:8080/"
        },
        "id": "rVmxAoJRzawk",
        "outputId": "63ed8fad-d90a-4d5a-c14e-fab24dc37f4e"
      },
      "execution_count": 2,
      "outputs": [
        {
          "output_type": "stream",
          "name": "stderr",
          "text": [
            "/usr/local/lib/python3.10/dist-packages/keras/src/layers/convolutional/base_conv.py:107: UserWarning: Do not pass an `input_shape`/`input_dim` argument to a layer. When using Sequential models, prefer using an `Input(shape)` object as the first layer in the model instead.\n",
            "  super().__init__(activity_regularizer=activity_regularizer, **kwargs)\n"
          ]
        }
      ]
    },
    {
      "cell_type": "code",
      "source": [
        "model.compile(optimizer='adam',\n",
        "              loss='categorical_crossentropy',\n",
        "              metrics=['accuracy'])\n",
        ""
      ],
      "metadata": {
        "id": "Ky-RUNmfzbTe"
      },
      "execution_count": 3,
      "outputs": []
    },
    {
      "cell_type": "code",
      "source": [
        "history = model.fit(train_data, train_labels, epochs=10, validation_split=0.1)"
      ],
      "metadata": {
        "colab": {
          "base_uri": "https://localhost:8080/"
        },
        "id": "dKwSE6przbgj",
        "outputId": "9b639af4-44f7-45f1-c217-9bdafb7485ef"
      },
      "execution_count": 4,
      "outputs": [
        {
          "output_type": "stream",
          "name": "stdout",
          "text": [
            "Epoch 1/10\n",
            "\u001b[1m1688/1688\u001b[0m \u001b[32m━━━━━━━━━━━━━━━━━━━━\u001b[0m\u001b[37m\u001b[0m \u001b[1m49s\u001b[0m 28ms/step - accuracy: 0.9019 - loss: 0.3149 - val_accuracy: 0.9823 - val_loss: 0.0603\n",
            "Epoch 2/10\n",
            "\u001b[1m1688/1688\u001b[0m \u001b[32m━━━━━━━━━━━━━━━━━━━━\u001b[0m\u001b[37m\u001b[0m \u001b[1m80s\u001b[0m 27ms/step - accuracy: 0.9858 - loss: 0.0457 - val_accuracy: 0.9863 - val_loss: 0.0456\n",
            "Epoch 3/10\n",
            "\u001b[1m1688/1688\u001b[0m \u001b[32m━━━━━━━━━━━━━━━━━━━━\u001b[0m\u001b[37m\u001b[0m \u001b[1m84s\u001b[0m 28ms/step - accuracy: 0.9913 - loss: 0.0285 - val_accuracy: 0.9880 - val_loss: 0.0414\n",
            "Epoch 4/10\n",
            "\u001b[1m1688/1688\u001b[0m \u001b[32m━━━━━━━━━━━━━━━━━━━━\u001b[0m\u001b[37m\u001b[0m \u001b[1m45s\u001b[0m 27ms/step - accuracy: 0.9936 - loss: 0.0192 - val_accuracy: 0.9908 - val_loss: 0.0340\n",
            "Epoch 5/10\n",
            "\u001b[1m1688/1688\u001b[0m \u001b[32m━━━━━━━━━━━━━━━━━━━━\u001b[0m\u001b[37m\u001b[0m \u001b[1m83s\u001b[0m 28ms/step - accuracy: 0.9954 - loss: 0.0131 - val_accuracy: 0.9890 - val_loss: 0.0487\n",
            "Epoch 6/10\n",
            "\u001b[1m1688/1688\u001b[0m \u001b[32m━━━━━━━━━━━━━━━━━━━━\u001b[0m\u001b[37m\u001b[0m \u001b[1m81s\u001b[0m 27ms/step - accuracy: 0.9964 - loss: 0.0106 - val_accuracy: 0.9892 - val_loss: 0.0434\n",
            "Epoch 7/10\n",
            "\u001b[1m1688/1688\u001b[0m \u001b[32m━━━━━━━━━━━━━━━━━━━━\u001b[0m\u001b[37m\u001b[0m \u001b[1m84s\u001b[0m 28ms/step - accuracy: 0.9971 - loss: 0.0100 - val_accuracy: 0.9917 - val_loss: 0.0448\n",
            "Epoch 8/10\n",
            "\u001b[1m1688/1688\u001b[0m \u001b[32m━━━━━━━━━━━━━━━━━━━━\u001b[0m\u001b[37m\u001b[0m \u001b[1m80s\u001b[0m 27ms/step - accuracy: 0.9977 - loss: 0.0065 - val_accuracy: 0.9892 - val_loss: 0.0499\n",
            "Epoch 9/10\n",
            "\u001b[1m1688/1688\u001b[0m \u001b[32m━━━━━━━━━━━━━━━━━━━━\u001b[0m\u001b[37m\u001b[0m \u001b[1m45s\u001b[0m 27ms/step - accuracy: 0.9978 - loss: 0.0069 - val_accuracy: 0.9892 - val_loss: 0.0532\n",
            "Epoch 10/10\n",
            "\u001b[1m1688/1688\u001b[0m \u001b[32m━━━━━━━━━━━━━━━━━━━━\u001b[0m\u001b[37m\u001b[0m \u001b[1m46s\u001b[0m 27ms/step - accuracy: 0.9977 - loss: 0.0061 - val_accuracy: 0.9915 - val_loss: 0.0456\n"
          ]
        }
      ]
    },
    {
      "cell_type": "code",
      "source": [
        "test_loss, test_accuracy = model.evaluate(test_data, test_labels)\n",
        "print(\"Exactitud del modelo en los datos de prueba:\", test_accuracy)"
      ],
      "metadata": {
        "colab": {
          "base_uri": "https://localhost:8080/"
        },
        "id": "PVoMq47gzbqp",
        "outputId": "4a4d91d6-6c6d-454e-c5a5-32c00e196caf"
      },
      "execution_count": 5,
      "outputs": [
        {
          "output_type": "stream",
          "name": "stdout",
          "text": [
            "\u001b[1m313/313\u001b[0m \u001b[32m━━━━━━━━━━━━━━━━━━━━\u001b[0m\u001b[37m\u001b[0m \u001b[1m3s\u001b[0m 9ms/step - accuracy: 0.9894 - loss: 0.0446\n",
            "Exactitud del modelo en los datos de prueba: 0.9919999837875366\n"
          ]
        }
      ]
    },
    {
      "cell_type": "code",
      "source": [
        "import numpy as np\n",
        "\n",
        "# Realizar 5 predicciones de prueba\n",
        "predictions = model.predict(test_data[:5])\n",
        "\n",
        "for i in range(5):\n",
        "    print(f\"Predicción: {np.argmax(predictions[i])}, Valor real: {np.argmax(test_labels[i])}\")\n",
        ""
      ],
      "metadata": {
        "colab": {
          "base_uri": "https://localhost:8080/"
        },
        "id": "Raie6OFPz-P1",
        "outputId": "5fb22096-8a55-44e7-e921-8cc800bff4bc"
      },
      "execution_count": 6,
      "outputs": [
        {
          "output_type": "stream",
          "name": "stdout",
          "text": [
            "\u001b[1m1/1\u001b[0m \u001b[32m━━━━━━━━━━━━━━━━━━━━\u001b[0m\u001b[37m\u001b[0m \u001b[1m0s\u001b[0m 135ms/step\n",
            "Predicción: 7, Valor real: 7\n",
            "Predicción: 2, Valor real: 2\n",
            "Predicción: 1, Valor real: 1\n",
            "Predicción: 0, Valor real: 0\n",
            "Predicción: 4, Valor real: 4\n"
          ]
        }
      ]
    }
  ]
}